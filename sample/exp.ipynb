{
 "cells": [
  {
   "cell_type": "code",
   "execution_count": 13,
   "metadata": {},
   "outputs": [
    {
     "name": "stdout",
     "output_type": "stream",
     "text": [
      "Downloaded CSS: downloaded_resources\\style.css\n",
      "All resources have been downloaded to the 'downloaded_resources' folder.\n"
     ]
    }
   ],
   "source": [
    "#these 2 are important\n",
    "import requests\n",
    "from bs4 import BeautifulSoup\n",
    "\n",
    "\n",
    "\n",
    "\n",
    "\n",
    "from urllib.parse import urljoin\n",
    "import os\n",
    "\n",
    "\n",
    "def fetch_web_resources(url):\n",
    "\n",
    "\n",
    "    # Fetch the main HTML content\n",
    "    response = requests.get(url)\n",
    "    soup = BeautifulSoup(response.text, 'html.parser')\n",
    "\n",
    "    # Create a directory to store files\n",
    "    os.makedirs('downloaded_resources', exist_ok=True)\n",
    "\n",
    "    # Save the HTML content\n",
    "    with open('downloaded_resources/index.html', 'w', encoding='utf-8') as f:\n",
    "        f.write(response.text)\n",
    "\n",
    "    # Function to download and save a file\n",
    "    def download_file(file_url, file_type):\n",
    "        file_url = urljoin(url, file_url)\n",
    "        file_name = os.path.join('downloaded_resources', os.path.basename(file_url))\n",
    "        with requests.get(file_url) as r:\n",
    "            with open(file_name, 'wb') as f:\n",
    "                f.write(r.content)\n",
    "        print(f\"Downloaded {file_type}: {file_name}\")\n",
    "\n",
    "    # Find and download CSS files\n",
    "    for css in soup.find_all(\"link\", rel=\"stylesheet\"):\n",
    "        css_url = css.get(\"href\")\n",
    "        if css_url:\n",
    "            download_file(css_url, 'CSS')\n",
    "\n",
    "    print(\"All resources have been downloaded to the 'downloaded_resources' folder.\")\n",
    "\n",
    "# Usage\n",
    "url = 'https://dpfried.github.io/'  \n",
    "fetch_web_resources(url)"
   ]
  }
 ],
 "metadata": {
  "kernelspec": {
   "display_name": "Python 3",
   "language": "python",
   "name": "python3"
  },
  "language_info": {
   "codemirror_mode": {
    "name": "ipython",
    "version": 3
   },
   "file_extension": ".py",
   "mimetype": "text/x-python",
   "name": "python",
   "nbconvert_exporter": "python",
   "pygments_lexer": "ipython3",
   "version": "3.11.3"
  }
 },
 "nbformat": 4,
 "nbformat_minor": 2
}
